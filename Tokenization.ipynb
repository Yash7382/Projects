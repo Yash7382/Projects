{
 "cells": [
  {
   "cell_type": "code",
   "execution_count": 1,
   "metadata": {},
   "outputs": [],
   "source": [
    "from nltk.tokenize import sent_tokenize"
   ]
  },
  {
   "cell_type": "code",
   "execution_count": 2,
   "metadata": {},
   "outputs": [],
   "source": [
    "corpus = \"\"\"\n",
    "Hellooo there I am Yashwant Thakor. \n",
    "welcome to my jupyter notebook.\n",
    "this is yashwant's laptop.\n",
    "\"\"\""
   ]
  },
  {
   "cell_type": "code",
   "execution_count": 4,
   "metadata": {},
   "outputs": [
    {
     "name": "stdout",
     "output_type": "stream",
     "text": [
      "['\\nHellooo there I am Yashwant Thakor.', 'welcome to my jupyter notebook.', \"this is yashwant's laptop.\"]\n"
     ]
    }
   ],
   "source": [
    "print(sent_tokenize(corpus))"
   ]
  },
  {
   "cell_type": "code",
   "execution_count": 5,
   "metadata": {},
   "outputs": [
    {
     "data": {
      "text/plain": [
       "['\\nHellooo there I am Yashwant Thakor.',\n",
       " 'welcome to my jupyter notebook.',\n",
       " \"this is yashwant's laptop.\"]"
      ]
     },
     "execution_count": 5,
     "metadata": {},
     "output_type": "execute_result"
    }
   ],
   "source": [
    "sent_tokenize(corpus)"
   ]
  },
  {
   "cell_type": "code",
   "execution_count": 6,
   "metadata": {},
   "outputs": [
    {
     "data": {
      "text/plain": [
       "['Hellooo',\n",
       " 'there',\n",
       " 'I',\n",
       " 'am',\n",
       " 'Yashwant',\n",
       " 'Thakor',\n",
       " '.',\n",
       " 'welcome',\n",
       " 'to',\n",
       " 'my',\n",
       " 'jupyter',\n",
       " 'notebook',\n",
       " '.',\n",
       " 'this',\n",
       " 'is',\n",
       " 'yashwant',\n",
       " \"'s\",\n",
       " 'laptop',\n",
       " '.']"
      ]
     },
     "execution_count": 6,
     "metadata": {},
     "output_type": "execute_result"
    }
   ],
   "source": [
    "from nltk.tokenize import word_tokenize\n",
    "\n",
    "word_tokenize(corpus)"
   ]
  },
  {
   "cell_type": "code",
   "execution_count": 8,
   "metadata": {},
   "outputs": [
    {
     "data": {
      "text/plain": [
       "['Hellooo',\n",
       " 'there',\n",
       " 'I',\n",
       " 'am',\n",
       " 'Yashwant',\n",
       " 'Thakor',\n",
       " '.',\n",
       " 'welcome',\n",
       " 'to',\n",
       " 'my',\n",
       " 'jupyter',\n",
       " 'notebook',\n",
       " '.',\n",
       " 'this',\n",
       " 'is',\n",
       " 'yashwant',\n",
       " \"'\",\n",
       " 's',\n",
       " 'laptop',\n",
       " '.']"
      ]
     },
     "execution_count": 8,
     "metadata": {},
     "output_type": "execute_result"
    }
   ],
   "source": [
    "from nltk import WordPunctTokenizer\n",
    "\n",
    "WordPunctTokenizer().tokenize(corpus)"
   ]
  },
  {
   "cell_type": "code",
   "execution_count": 9,
   "metadata": {},
   "outputs": [
    {
     "data": {
      "text/plain": [
       "['Hellooo',\n",
       " 'there',\n",
       " 'I',\n",
       " 'am',\n",
       " 'Yashwant',\n",
       " 'Thakor',\n",
       " '.',\n",
       " 'welcome',\n",
       " 'to',\n",
       " 'my',\n",
       " 'jupyter',\n",
       " 'notebook',\n",
       " '.',\n",
       " 'this',\n",
       " 'is',\n",
       " 'yashwant',\n",
       " \"'\",\n",
       " 's',\n",
       " 'laptop',\n",
       " '.']"
      ]
     },
     "execution_count": 9,
     "metadata": {},
     "output_type": "execute_result"
    }
   ],
   "source": [
    "from nltk import wordpunct_tokenize\n",
    "\n",
    "wordpunct_tokenize(corpus)"
   ]
  },
  {
   "cell_type": "code",
   "execution_count": null,
   "metadata": {},
   "outputs": [],
   "source": []
  }
 ],
 "metadata": {
  "kernelspec": {
   "display_name": "Udemy_course",
   "language": "python",
   "name": "python3"
  },
  "language_info": {
   "codemirror_mode": {
    "name": "ipython",
    "version": 3
   },
   "file_extension": ".py",
   "mimetype": "text/x-python",
   "name": "python",
   "nbconvert_exporter": "python",
   "pygments_lexer": "ipython3",
   "version": "3.12.8"
  }
 },
 "nbformat": 4,
 "nbformat_minor": 2
}
